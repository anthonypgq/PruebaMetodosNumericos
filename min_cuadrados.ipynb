{
 "cells": [
  {
   "cell_type": "code",
   "execution_count": 1,
   "metadata": {},
   "outputs": [],
   "source": [
    "%load_ext autoreload"
   ]
  },
  {
   "cell_type": "markdown",
   "metadata": {},
   "source": [
    "# Examen"
   ]
  },
  {
   "cell_type": "markdown",
   "metadata": {},
   "source": [
    "# Mínimos cuadrados"
   ]
  },
  {
   "cell_type": "markdown",
   "metadata": {},
   "source": [
    "La ecuación de la línea es:\n",
    "\n",
    "$ y(x) = a_1 x + a_0 $\n",
    "\n",
    "Al realizar el proceso de mínimos cuadrados queda el siguiente sistema de ecuaciones:\n",
    "\n",
    "\n",
    "$( \\sum_i (y_i - a_1 x_i - a_0) , \\sum_i (y_i - a_1 x_i - a_0)x_i ) = 0$"
   ]
  },
  {
   "cell_type": "code",
   "execution_count": 2,
   "metadata": {},
   "outputs": [],
   "source": [
    "# Derivadas parciales\n",
    "# ####################################################################\n",
    "def der_parcial_2(xs: list, ys: list) -> tuple[float, float, float, float]:\n",
    "    \"\"\"Retorna los coeficientes de la ecuación de la derivada parcial con respecto al parámetro 2 al reemplazar los valores ``xs`` y ``ys``. La ecuación es de la forma:\n",
    "    c_2 * a_2 + c_1 * a_1 + c_0 * a_0 = c_ind\n",
    "\n",
    "    ## Parameters\n",
    "\n",
    "    ``xs``: lista de valores de x.\n",
    "\n",
    "    ``ys``: lista de valores de y.\n",
    "\n",
    "    ## Return\n",
    "\n",
    "    ``c_2``: coeficiente del parámetro 2.\n",
    "\n",
    "    ``c_1``: coeficiente del parámetro 1.\n",
    "\n",
    "    ``c_0``: coeficiente del parámetro 0.\n",
    "\n",
    "    ``c_ind``: coeficiente del término independiente.\n",
    "    \"\"\"\n",
    "    c_2 = 0\n",
    "    c_1 = 0\n",
    "    c_0 = 0\n",
    "    c_ind = 0\n",
    "    for xi, yi in zip(xs, ys):\n",
    "        c_ind += xi**2 * yi\n",
    "        c_2 += xi**4\n",
    "        c_1 += xi**3\n",
    "        c_0 += xi**2\n",
    "\n",
    "    return (c_2, c_1, c_0, c_ind)\n",
    "\n",
    "def der_parcial_1(xs: list, ys: list) -> tuple[float, float, float, float]:\n",
    "    \"\"\"Retorna los coeficientes de la ecuación de la derivada parcial con respecto al parámetro 1 al reemplazar los valores ``xs`` y ``ys``. La ecuación es de la forma:\n",
    "    c_1 * a_1 + c_0 * a_0 = c_ind\n",
    "\n",
    "\n",
    "    ## Parameters\n",
    "\n",
    "    ``xs``: lista de valores de x.\n",
    "\n",
    "    ``ys``: lista de valores de y.\n",
    "\n",
    "    ## Return\n",
    "\n",
    "    ``c_1``: coeficiente del parámetro 1.\n",
    "\n",
    "    ``c_0``: coeficiente del parámetro 0.\n",
    "\n",
    "    ``c_ind``: coeficiente del término independiente.\n",
    "\n",
    "    \"\"\"\n",
    "    c_2 = 0\n",
    "    c_1 = 0\n",
    "    c_0 = 0\n",
    "    c_ind = 0\n",
    "    for xi, yi in zip(xs, ys):\n",
    "        c_ind += xi * yi\n",
    "        c_2 += xi**3\n",
    "        c_1 += xi**2\n",
    "        c_0 += xi\n",
    "\n",
    "    return (c_2, c_1, c_0, c_ind)\n",
    "\n",
    "\n",
    "def der_parcial_0(xs: list, ys: list) -> tuple[float, float, float, float]:\n",
    "    \"\"\"Retorna los coeficientes de la ecuación de la derivada parcial con respecto al parámetro 0 al reemplazar los valores ``xs`` y ``ys``. La ecuación es de la forma:\n",
    "    c_1 * a_1 + c_0 * a_0 = c_ind\n",
    "\n",
    "\n",
    "    ## Parameters\n",
    "\n",
    "    ``xs``: lista de valores de x.\n",
    "\n",
    "    ``ys``: lista de valores de y.\n",
    "\n",
    "    ## Return\n",
    "\n",
    "    ``c_1``: coeficiente del parámetro 1.\n",
    "\n",
    "    ``c_0``: coeficiente del parámetro 0.\n",
    "\n",
    "    ``c_ind``: coeficiente del término independiente.\n",
    "\n",
    "    \"\"\"\n",
    "    c_2 = 0\n",
    "    c_1 = 0\n",
    "    c_0 = 0\n",
    "    c_ind = 0\n",
    "    for xi, yi in zip(xs, ys):\n",
    "        c_ind += yi\n",
    "        c_2 += xi**2\n",
    "        c_1 += xi\n",
    "        c_0 += 1\n",
    "\n",
    "    return (c_2, c_1, c_0, c_ind)"
   ]
  },
  {
   "cell_type": "markdown",
   "metadata": {},
   "source": [
    "## Conjunto de datos 1"
   ]
  },
  {
   "cell_type": "code",
   "execution_count": 4,
   "metadata": {},
   "outputs": [],
   "source": [
    "xs = [\n",
    "    -5.0000,\n",
    "    -3.8889,\n",
    "    -2.7778,\n",
    "    -1.6667,\n",
    "    -0.5556,\n",
    "    0.5556,\n",
    "    1.6667,\n",
    "    2.7778,\n",
    "    3.8889,\n",
    "    5.0000,\n",
    "]\n",
    "ys = [\n",
    "    -12.7292,\n",
    "    -7.5775,\n",
    "    -7.7390,\n",
    "    -4.1646,\n",
    "    -4.5382,\n",
    "    2.2048,\n",
    "    4.3369,\n",
    "    2.2227,\n",
    "    9.0625,\n",
    "    7.1860,\n",
    "]"
   ]
  },
  {
   "cell_type": "code",
   "execution_count": 5,
   "metadata": {},
   "outputs": [
    {
     "data": {
      "image/png": "[encoded data removed]",
      "text/plain": [
       "<Figure size 640x480 with 1 Axes>"
      ]
     },
     "metadata": {},
     "output_type": "display_data"
    }
   ],
   "source": [
    "import matplotlib.pyplot as plt\n",
    "\n",
    "plt.scatter(xs, ys)\n",
    "plt.xlabel(\"x\")\n",
    "plt.ylabel(\"y\")\n",
    "plt.title(\"Conjunto de datos 1\")\n",
    "plt.show()"
   ]
  },
  {
   "cell_type": "code",
   "execution_count": 15,
   "metadata": {},
   "outputs": [
    {
     "name": "stdout",
     "output_type": "stream",
     "text": [
      "[07-19 20:10:08][INFO] Se ajustarán 3 parámetros.\n",
      "[07-19 20:10:08][INFO] \n",
      "[[ 1.01852593e+02  0.00000000e+00  1.00000000e+01 -1.17356000e+01]\n",
      " [ 0.00000000e+00  1.01852593e+02  0.00000000e+00  2.09874767e+02]\n",
      " [-2.27373675e-13  0.00000000e+00 -7.90113041e+01  5.33267019e+01]]\n",
      "[07-19 20:10:08][INFO] \n",
      "[[ 1.01852593e+02  0.00000000e+00  1.00000000e+01 -1.17356000e+01]\n",
      " [ 0.00000000e+00  1.01852593e+02  0.00000000e+00  2.09874767e+02]\n",
      " [-2.27373675e-13  0.00000000e+00 -7.90113041e+01  5.33267019e+01]]\n"
     ]
    },
    {
     "data": {
      "text/plain": [
       "array([-0.04895654,  2.06057364, -0.67492497])"
      ]
     },
     "execution_count": 15,
     "metadata": {},
     "output_type": "execute_result"
    }
   ],
   "source": [
    "%autoreload 2\n",
    "from src import ajustar_min_cuadrados\n",
    "pars = ajustar_min_cuadrados(xs, ys, gradiente=[der_parcial_2, der_parcial_1, der_parcial_0])\n",
    "\n",
    "pars # parámetros de la curva ajustada"
   ]
  },
  {
   "cell_type": "code",
   "execution_count": 9,
   "metadata": {},
   "outputs": [],
   "source": [
    "# ####################################################################\n",
    "def linea(x: float, pars: tuple[float]) -> float:\n",
    "    \"\"\"Ecuación de la parábola y = a2 * x^2 + a1 * x + a0.\n",
    "\n",
    "    ## Parameters\n",
    "\n",
    "    ``x``: valor de x.\n",
    "\n",
    "    ``pars``: parámetros de la parábola. Deben ser de la forma (a2, a1, a0).\n",
    "\n",
    "    ## Return\n",
    "\n",
    "    ``y``: valor de y.\n",
    "    \"\"\"\n",
    "    a2, a1, a0 = pars\n",
    "    return a2 * x**2 + a1 * x + a0"
   ]
  },
  {
   "cell_type": "code",
   "execution_count": 13,
   "metadata": {},
   "outputs": [
    {
     "name": "stdout",
     "output_type": "stream",
     "text": [
      "[07-19 20:08:51][INFO] Se ajustarán 3 parámetros.\n",
      "[07-19 20:08:51][INFO] \n",
      "[[ 1.01852593e+02  0.00000000e+00  1.00000000e+01 -1.17356000e+01]\n",
      " [ 0.00000000e+00  1.01852593e+02  0.00000000e+00  2.09874767e+02]\n",
      " [-2.27373675e-13  0.00000000e+00 -7.90113041e+01  5.33267019e+01]]\n",
      "[07-19 20:08:51][INFO] \n",
      "[[ 1.01852593e+02  0.00000000e+00  1.00000000e+01 -1.17356000e+01]\n",
      " [ 0.00000000e+00  1.01852593e+02  0.00000000e+00  2.09874767e+02]\n",
      " [-2.27373675e-13  0.00000000e+00 -7.90113041e+01  5.33267019e+01]]\n"
     ]
    },
    {
     "data": {
      "image/png": "[encoded data removed]",
      "text/plain": [
       "<Figure size 640x480 with 1 Axes>"
      ]
     },
     "metadata": {},
     "output_type": "display_data"
    }
   ],
   "source": [
    "import numpy as np\n",
    "\n",
    "# Realizar el ajuste por mínimos cuadrados\n",
    "pars = ajustar_min_cuadrados(xs, ys, gradiente=[der_parcial_2, der_parcial_1, der_parcial_0])\n",
    "\n",
    "x = np.linspace(-5, 5, 100)\n",
    "y = [linea(xi, pars) for xi in x]\n",
    "\n",
    "plt.scatter(xs, ys, label=\"Datos\")\n",
    "plt.plot(x, y, color=\"red\", label=r\"$ y = a_1 x + a_0 $\")\n",
    "plt.xlabel(\"x\")\n",
    "plt.ylabel(\"y\")\n",
    "plt.title(\"Ajuste por mínimos cuadrados\")\n",
    "plt.legend()\n",
    "plt.show()"
   ]
  },
  {
   "cell_type": "markdown",
   "metadata": {},
   "source": [
    "## Conjunto de datos 2"
   ]
  },
  {
   "cell_type": "code",
   "execution_count": 44,
   "metadata": {},
   "outputs": [],
   "source": [
    "xs2 = [\n",
    "    -5.0000,\n",
    "    -3.8889,\n",
    "    -2.7778,\n",
    "    -1.6667,\n",
    "    -0.5556,\n",
    "    0.5556,\n",
    "    1.6667,\n",
    "    2.7778,\n",
    "    3.8889,\n",
    "    5.0000,\n",
    "]\n",
    "ys2 = [\n",
    "    57.2441,\n",
    "    33.0303,\n",
    "    16.4817,\n",
    "    7.0299,\n",
    "    0.5498,\n",
    "    0.7117,\n",
    "    3.4185,\n",
    "    12.1767,\n",
    "    24.9167,\n",
    "    44.2495,\n",
    "]"
   ]
  },
  {
   "cell_type": "code",
   "execution_count": 45,
   "metadata": {},
   "outputs": [
    {
     "data": {
      "image/png": "[encoded data removed]",
      "text/plain": [
       "<Figure size 640x480 with 1 Axes>"
      ]
     },
     "metadata": {},
     "output_type": "display_data"
    }
   ],
   "source": [
    "plt.scatter(xs2, ys2)\n",
    "plt.xlabel(\"x\")\n",
    "plt.ylabel(\"y\")\n",
    "plt.title(\"Conjunto de datos 2\")\n",
    "plt.show()"
   ]
  },
  {
   "cell_type": "markdown",
   "metadata": {},
   "source": [
    "Al utilizar el método de mínimos cuadrados con una función lineal se obtienen malos resultados."
   ]
  },
  {
   "cell_type": "code",
   "execution_count": 18,
   "metadata": {},
   "outputs": [
    {
     "ename": "NameError",
     "evalue": "name 'xs2' is not defined",
     "output_type": "error",
     "traceback": [
      "\u001b[1;31m---------------------------------------------------------------------------\u001b[0m",
      "\u001b[1;31mNameError\u001b[0m                                 Traceback (most recent call last)",
      "Cell \u001b[1;32mIn[18], line 6\u001b[0m\n\u001b[0;32m      3\u001b[0m x \u001b[38;5;241m=\u001b[39m np\u001b[38;5;241m.\u001b[39mlinspace(\u001b[38;5;241m-\u001b[39m\u001b[38;5;241m5\u001b[39m, \u001b[38;5;241m5\u001b[39m, \u001b[38;5;241m100\u001b[39m)\n\u001b[0;32m      5\u001b[0m \u001b[38;5;66;03m# Realizar el ajuste por mínimos cuadrados\u001b[39;00m\n\u001b[1;32m----> 6\u001b[0m pars \u001b[38;5;241m=\u001b[39m ajustar_min_cuadrados(\u001b[43mxs2\u001b[49m, ys2, gradiente\u001b[38;5;241m=\u001b[39m[der_parcial_2, der_parcial_1, der_parcial_0])\n\u001b[0;32m      9\u001b[0m y \u001b[38;5;241m=\u001b[39m [cuadratica(xi, pars) \u001b[38;5;28;01mfor\u001b[39;00m xi \u001b[38;5;129;01min\u001b[39;00m x]\n\u001b[0;32m     11\u001b[0m plt\u001b[38;5;241m.\u001b[39mscatter(xs2, ys2, label\u001b[38;5;241m=\u001b[39m\u001b[38;5;124m\"\u001b[39m\u001b[38;5;124mDatos\u001b[39m\u001b[38;5;124m\"\u001b[39m)\n",
      "\u001b[1;31mNameError\u001b[0m: name 'xs2' is not defined"
     ]
    }
   ],
   "source": [
    "import numpy as np\n",
    "\n",
    "x = np.linspace(-5, 5, 100)\n",
    "\n",
    "# Realizar el ajuste por mínimos cuadrados\n",
    "pars = ajustar_min_cuadrados(xs2, ys2, gradiente=[der_parcial_2, der_parcial_1, der_parcial_0])\n",
    "\n",
    "\n",
    "y = [cuadratica(xi, pars) for xi in x]\n",
    "\n",
    "plt.scatter(xs2, ys2, label=\"Datos\")\n",
    "plt.plot(x, y, color=\"red\", label=r\"$ y = a_1 x + a_0 $\")\n",
    "plt.xlabel(\"x\")\n",
    "plt.ylabel(\"y\")\n",
    "plt.title(\"Ajuste por mínimos cuadrados\")\n",
    "plt.legend()\n",
    "plt.show()"
   ]
  },
  {
   "cell_type": "markdown",
   "metadata": {},
   "source": [
    "# Indicaciones\n",
    "Su trabajo es ajustar el código para utilizar una función cuadrática que aproxime los puntos. Tenga en cuenta las siguientes consideraciones:\n",
    "* Usar el método de mínimos cuadrados para interpolar los puntos.\n",
    "* Graficar la función cuadrática y los puntos dados.\n",
    "* Listar los cambios realizados.\n",
    "* Modificar y utilizar SOLO el código provisto. No se aceptarán la utilización de otras librerías o funciones."
   ]
  },
  {
   "cell_type": "code",
   "execution_count": 47,
   "metadata": {},
   "outputs": [],
   "source": [
    "# ####################################################################\n",
    "def der_parcial_0_exp(xs: list, ys: list) -> tuple[float, float, float]:\n",
    "    \"\"\"Retorna los coeficientes de la ecuación de la derivada parcial con respecto al parámetro 1 al reemplazar los valores ``xs`` y ``ys``. La ecuación es de la forma:\n",
    "    c_1 * a_1 + c_0 * a_0 = c_ind\n",
    "\n",
    "\n",
    "    ## Parameters\n",
    "\n",
    "    ``xs``: lista de valores de x.\n",
    "\n",
    "    ``ys``: lista de valores de y.\n",
    "\n",
    "    ## Return\n",
    "\n",
    "    ``c_1``: coeficiente del parámetro 1.\n",
    "\n",
    "    ``c_0``: coeficiente del parámetro 0.\n",
    "\n",
    "    ``c_ind``: coeficiente del término independiente.\n",
    "\n",
    "    \"\"\"\n",
    "\n",
    "    # Completar\n",
    "    pass"
   ]
  },
  {
   "cell_type": "markdown",
   "metadata": {},
   "source": [
    "Su gráfico debe ser similar a:\n",
    "![alt text](<assets/2do orden.jpg>)"
   ]
  }
 ],
 "metadata": {
  "kernelspec": {
   "display_name": "Python 3",
   "language": "python",
   "name": "python3"
  },
  "language_info": {
   "codemirror_mode": {
    "name": "ipython",
    "version": 3
   },
   "file_extension": ".py",
   "mimetype": "text/x-python",
   "name": "python",
   "nbconvert_exporter": "python",
   "pygments_lexer": "ipython3",
   "version": "3.12.3"
  }
 },
 "nbformat": 4,
 "nbformat_minor": 2
}
